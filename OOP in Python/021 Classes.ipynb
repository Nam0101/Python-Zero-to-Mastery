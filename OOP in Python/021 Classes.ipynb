{
  "cells": [
    {
      "attachments": {},
      "cell_type": "markdown",
      "metadata": {},
      "source": [
        "## `PEP8`"
      ]
    },
    {
      "attachments": {},
      "cell_type": "markdown",
      "metadata": {},
      "source": [
        "## `Our First Class`"
      ]
    },
    {
      "cell_type": "code",
      "execution_count": 2,
      "metadata": {},
      "outputs": [],
      "source": [
        "class MercedezBenz:\n",
        "    pass"
      ]
    },
    {
      "cell_type": "code",
      "execution_count": 3,
      "metadata": {},
      "outputs": [
        {
          "data": {
            "text/plain": [
              "__main__.MercedezBenz"
            ]
          },
          "execution_count": 3,
          "metadata": {},
          "output_type": "execute_result"
        }
      ],
      "source": [
        "MercedezBenz"
      ]
    },
    {
      "cell_type": "code",
      "execution_count": 4,
      "metadata": {},
      "outputs": [
        {
          "data": {
            "text/plain": [
              "type"
            ]
          },
          "execution_count": 4,
          "metadata": {},
          "output_type": "execute_result"
        }
      ],
      "source": [
        "type(MercedezBenz)"
      ]
    },
    {
      "cell_type": "code",
      "execution_count": 5,
      "metadata": {},
      "outputs": [
        {
          "data": {
            "text/plain": [
              "(object,)"
            ]
          },
          "execution_count": 5,
          "metadata": {},
          "output_type": "execute_result"
        }
      ],
      "source": [
        "MercedezBenz.__bases__"
      ]
    },
    {
      "cell_type": "code",
      "execution_count": 6,
      "metadata": {},
      "outputs": [
        {
          "data": {
            "text/plain": [
              "'MercedezBenz'"
            ]
          },
          "execution_count": 6,
          "metadata": {},
          "output_type": "execute_result"
        }
      ],
      "source": [
        "MercedezBenz.__name__"
      ]
    },
    {
      "cell_type": "code",
      "execution_count": 7,
      "metadata": {},
      "outputs": [
        {
          "data": {
            "text/plain": [
              "<__main__.MercedezBenz at 0x1dc45608ca0>"
            ]
          },
          "execution_count": 7,
          "metadata": {},
          "output_type": "execute_result"
        }
      ],
      "source": [
        "MercedezBenz()"
      ]
    },
    {
      "cell_type": "code",
      "execution_count": 8,
      "metadata": {},
      "outputs": [],
      "source": [
        "m1 = MercedezBenz()\n",
        "m2 = MercedezBenz()"
      ]
    },
    {
      "cell_type": "code",
      "execution_count": 9,
      "metadata": {},
      "outputs": [
        {
          "data": {
            "text/plain": [
              "<__main__.MercedezBenz at 0x1dc45bc5c60>"
            ]
          },
          "execution_count": 9,
          "metadata": {},
          "output_type": "execute_result"
        }
      ],
      "source": [
        "m1"
      ]
    },
    {
      "cell_type": "code",
      "execution_count": 10,
      "metadata": {},
      "outputs": [
        {
          "data": {
            "text/plain": [
              "<__main__.MercedezBenz at 0x1dc45bc46d0>"
            ]
          },
          "execution_count": 10,
          "metadata": {},
          "output_type": "execute_result"
        }
      ],
      "source": [
        "m2"
      ]
    },
    {
      "cell_type": "code",
      "execution_count": 11,
      "metadata": {},
      "outputs": [
        {
          "data": {
            "text/plain": [
              "False"
            ]
          },
          "execution_count": 11,
          "metadata": {},
          "output_type": "execute_result"
        }
      ],
      "source": [
        "m2 == m1"
      ]
    },
    {
      "attachments": {},
      "cell_type": "markdown",
      "metadata": {},
      "source": [
        "## `Class State`"
      ]
    },
    {
      "cell_type": "code",
      "execution_count": 12,
      "metadata": {},
      "outputs": [],
      "source": [
        "class MercedezBenz:\n",
        "    doors = 2\n",
        "    wheels = 4"
      ]
    },
    {
      "cell_type": "code",
      "execution_count": 13,
      "metadata": {},
      "outputs": [],
      "source": [
        "# __dict__"
      ]
    },
    {
      "cell_type": "code",
      "execution_count": 14,
      "metadata": {},
      "outputs": [
        {
          "data": {
            "text/plain": [
              "mappingproxy({'__module__': '__main__',\n",
              "              'doors': 2,\n",
              "              'wheels': 4,\n",
              "              '__dict__': <attribute '__dict__' of 'MercedezBenz' objects>,\n",
              "              '__weakref__': <attribute '__weakref__' of 'MercedezBenz' objects>,\n",
              "              '__doc__': None})"
            ]
          },
          "execution_count": 14,
          "metadata": {},
          "output_type": "execute_result"
        }
      ],
      "source": [
        "MercedezBenz.__dict__"
      ]
    },
    {
      "cell_type": "code",
      "execution_count": 15,
      "metadata": {},
      "outputs": [],
      "source": [
        "MercedezBenz.doors = 4"
      ]
    },
    {
      "cell_type": "code",
      "execution_count": 16,
      "metadata": {},
      "outputs": [],
      "source": [
        "MercedezBenz.model = 'G'"
      ]
    },
    {
      "cell_type": "code",
      "execution_count": 17,
      "metadata": {},
      "outputs": [
        {
          "data": {
            "text/plain": [
              "mappingproxy({'__module__': '__main__',\n",
              "              'doors': 4,\n",
              "              'wheels': 4,\n",
              "              '__dict__': <attribute '__dict__' of 'MercedezBenz' objects>,\n",
              "              '__weakref__': <attribute '__weakref__' of 'MercedezBenz' objects>,\n",
              "              '__doc__': None,\n",
              "              'model': 'G'})"
            ]
          },
          "execution_count": 17,
          "metadata": {},
          "output_type": "execute_result"
        }
      ],
      "source": [
        "MercedezBenz.__dict__"
      ]
    },
    {
      "cell_type": "code",
      "execution_count": 18,
      "metadata": {},
      "outputs": [],
      "source": [
        "m3 = MercedezBenz()\n",
        "m4 = MercedezBenz()"
      ]
    },
    {
      "cell_type": "code",
      "execution_count": 19,
      "metadata": {},
      "outputs": [
        {
          "data": {
            "text/plain": [
              "4"
            ]
          },
          "execution_count": 19,
          "metadata": {},
          "output_type": "execute_result"
        }
      ],
      "source": [
        "m3.doors"
      ]
    },
    {
      "cell_type": "code",
      "execution_count": 20,
      "metadata": {},
      "outputs": [
        {
          "data": {
            "text/plain": [
              "('G', 'G')"
            ]
          },
          "execution_count": 20,
          "metadata": {},
          "output_type": "execute_result"
        }
      ],
      "source": [
        "m4.model, m3.model"
      ]
    },
    {
      "attachments": {},
      "cell_type": "markdown",
      "metadata": {},
      "source": [
        "## `Methods And Behaviour`"
      ]
    },
    {
      "cell_type": "code",
      "execution_count": 21,
      "metadata": {},
      "outputs": [],
      "source": [
        "class MercedezBenz:\n",
        "    doors = 4\n",
        "    wheels = 4\n",
        "    model = 'G'"
      ]
    },
    {
      "cell_type": "code",
      "execution_count": 22,
      "metadata": {},
      "outputs": [],
      "source": [
        "def drive():\n",
        "    return \"A car is being driven\""
      ]
    },
    {
      "cell_type": "code",
      "execution_count": 23,
      "metadata": {},
      "outputs": [
        {
          "data": {
            "text/plain": [
              "'A car is being driven'"
            ]
          },
          "execution_count": 23,
          "metadata": {},
          "output_type": "execute_result"
        }
      ],
      "source": [
        "drive()"
      ]
    },
    {
      "cell_type": "code",
      "execution_count": 24,
      "metadata": {},
      "outputs": [],
      "source": [
        "class MercedezBenz:\n",
        "    doors = 4\n",
        "    wheels = 4\n",
        "    model = 'G'\n",
        "\n",
        "    def drive(self):\n",
        "        return self"
      ]
    },
    {
      "cell_type": "code",
      "execution_count": 25,
      "metadata": {},
      "outputs": [],
      "source": [
        "m1 = MercedezBenz()"
      ]
    },
    {
      "cell_type": "code",
      "execution_count": 26,
      "metadata": {},
      "outputs": [
        {
          "data": {
            "text/plain": [
              "<__main__.MercedezBenz at 0x1dc45bc5000>"
            ]
          },
          "execution_count": 26,
          "metadata": {},
          "output_type": "execute_result"
        }
      ],
      "source": [
        "m1.drive()"
      ]
    },
    {
      "cell_type": "code",
      "execution_count": 27,
      "metadata": {},
      "outputs": [
        {
          "data": {
            "text/plain": [
              "<__main__.MercedezBenz at 0x1dc45bc5000>"
            ]
          },
          "execution_count": 27,
          "metadata": {},
          "output_type": "execute_result"
        }
      ],
      "source": [
        "m1"
      ]
    },
    {
      "cell_type": "code",
      "execution_count": 28,
      "metadata": {},
      "outputs": [
        {
          "data": {
            "text/plain": [
              "True"
            ]
          },
          "execution_count": 28,
          "metadata": {},
          "output_type": "execute_result"
        }
      ],
      "source": [
        "m1 == m1.drive()"
      ]
    },
    {
      "cell_type": "code",
      "execution_count": 29,
      "metadata": {},
      "outputs": [
        {
          "data": {
            "text/plain": [
              "True"
            ]
          },
          "execution_count": 29,
          "metadata": {},
          "output_type": "execute_result"
        }
      ],
      "source": [
        "m1 is m1.drive()"
      ]
    },
    {
      "cell_type": "code",
      "execution_count": 30,
      "metadata": {},
      "outputs": [
        {
          "data": {
            "text/plain": [
              "False"
            ]
          },
          "execution_count": 30,
          "metadata": {},
          "output_type": "execute_result"
        }
      ],
      "source": [
        "m1 == MercedezBenz"
      ]
    },
    {
      "cell_type": "code",
      "execution_count": 31,
      "metadata": {},
      "outputs": [],
      "source": [
        "class MercedezBenz:\n",
        "    doors = 4\n",
        "    wheels = 4\n",
        "    model = 'G'\n",
        "\n",
        "    def drive(self):\n",
        "        return f\"A Mercedez is driving. And it is {self}\\n\""
      ]
    },
    {
      "cell_type": "code",
      "execution_count": 32,
      "metadata": {},
      "outputs": [],
      "source": [
        "m1 = MercedezBenz()\n",
        "m2 = MercedezBenz()"
      ]
    },
    {
      "cell_type": "code",
      "execution_count": 33,
      "metadata": {},
      "outputs": [
        {
          "data": {
            "text/plain": [
              "'A Mercedez is driving. And it is <__main__.MercedezBenz object at 0x000001DC45BC6C20>\\n'"
            ]
          },
          "execution_count": 33,
          "metadata": {},
          "output_type": "execute_result"
        }
      ],
      "source": [
        "m1.drive()"
      ]
    },
    {
      "cell_type": "code",
      "execution_count": 34,
      "metadata": {},
      "outputs": [
        {
          "data": {
            "text/plain": [
              "'A Mercedez is driving. And it is <__main__.MercedezBenz object at 0x000001DC45B70AF0>\\n'"
            ]
          },
          "execution_count": 34,
          "metadata": {},
          "output_type": "execute_result"
        }
      ],
      "source": [
        "m2.drive()"
      ]
    },
    {
      "cell_type": "code",
      "execution_count": 35,
      "metadata": {},
      "outputs": [],
      "source": [
        "# tracing drive"
      ]
    },
    {
      "cell_type": "code",
      "execution_count": 36,
      "metadata": {},
      "outputs": [
        {
          "data": {
            "text/plain": [
              "<function __main__.MercedezBenz.drive(self)>"
            ]
          },
          "execution_count": 36,
          "metadata": {},
          "output_type": "execute_result"
        }
      ],
      "source": [
        "MercedezBenz.drive"
      ]
    },
    {
      "cell_type": "code",
      "execution_count": 37,
      "metadata": {},
      "outputs": [
        {
          "data": {
            "text/plain": [
              "function"
            ]
          },
          "execution_count": 37,
          "metadata": {},
          "output_type": "execute_result"
        }
      ],
      "source": [
        "type(MercedezBenz.drive)"
      ]
    },
    {
      "cell_type": "code",
      "execution_count": 38,
      "metadata": {},
      "outputs": [
        {
          "data": {
            "text/plain": [
              "<bound method MercedezBenz.drive of <__main__.MercedezBenz object at 0x000001DC45BC6C20>>"
            ]
          },
          "execution_count": 38,
          "metadata": {},
          "output_type": "execute_result"
        }
      ],
      "source": [
        "m1.drive"
      ]
    },
    {
      "cell_type": "code",
      "execution_count": 39,
      "metadata": {},
      "outputs": [
        {
          "data": {
            "text/plain": [
              "<bound method MercedezBenz.drive of <__main__.MercedezBenz object at 0x000001DC45B70AF0>>"
            ]
          },
          "execution_count": 39,
          "metadata": {},
          "output_type": "execute_result"
        }
      ],
      "source": [
        "m2.drive"
      ]
    },
    {
      "cell_type": "code",
      "execution_count": 40,
      "metadata": {},
      "outputs": [
        {
          "data": {
            "text/plain": [
              "method"
            ]
          },
          "execution_count": 40,
          "metadata": {},
          "output_type": "execute_result"
        }
      ],
      "source": [
        "type(m2.drive)"
      ]
    },
    {
      "attachments": {},
      "cell_type": "markdown",
      "metadata": {},
      "source": [
        "## `Instance Attribtues`"
      ]
    },
    {
      "cell_type": "code",
      "execution_count": 41,
      "metadata": {},
      "outputs": [],
      "source": [
        "class MercedezBenz:\n",
        "    doors = 4\n",
        "    wheels = 4\n",
        "    model = 'G'\n",
        "\n",
        "\n",
        "    def drive(self):\n",
        "        print(f\"A Mercedez is driving. It is {self}\\n\")"
      ]
    },
    {
      "cell_type": "code",
      "execution_count": 42,
      "metadata": {},
      "outputs": [],
      "source": [
        "m1 = MercedezBenz()\n",
        "m2 = MercedezBenz()"
      ]
    },
    {
      "cell_type": "code",
      "execution_count": 43,
      "metadata": {},
      "outputs": [
        {
          "data": {
            "text/plain": [
              "(4, 4)"
            ]
          },
          "execution_count": 43,
          "metadata": {},
          "output_type": "execute_result"
        }
      ],
      "source": [
        "m1.doors, m2.doors"
      ]
    },
    {
      "cell_type": "code",
      "execution_count": 44,
      "metadata": {},
      "outputs": [
        {
          "data": {
            "text/plain": [
              "('G', 'G')"
            ]
          },
          "execution_count": 44,
          "metadata": {},
          "output_type": "execute_result"
        }
      ],
      "source": [
        "m1.model, m2.model"
      ]
    },
    {
      "cell_type": "code",
      "execution_count": 45,
      "metadata": {},
      "outputs": [],
      "source": [
        "m1.color = \"black\"\n",
        "m2.color = \"red\""
      ]
    },
    {
      "cell_type": "code",
      "execution_count": 46,
      "metadata": {},
      "outputs": [
        {
          "data": {
            "text/plain": [
              "('black', 'red')"
            ]
          },
          "execution_count": 46,
          "metadata": {},
          "output_type": "execute_result"
        }
      ],
      "source": [
        "m1.color, m2.color"
      ]
    },
    {
      "cell_type": "code",
      "execution_count": 47,
      "metadata": {},
      "outputs": [],
      "source": [
        "class MercedezBenz:\n",
        "    doors = 4\n",
        "    wheels = 4\n",
        "    model = 'G'\n",
        "\n",
        "    def __init__(self, color=\"black\"):  # after instance creation, but before it is returned\n",
        "        self.color = color\n",
        "\n",
        "    def drive(self):\n",
        "        print(f\"A Mercedez is driving. It is {self}\\n\")"
      ]
    },
    {
      "cell_type": "code",
      "execution_count": 48,
      "metadata": {},
      "outputs": [
        {
          "data": {
            "text/plain": [
              "<__main__.MercedezBenz at 0x1dc45baa980>"
            ]
          },
          "execution_count": 48,
          "metadata": {},
          "output_type": "execute_result"
        }
      ],
      "source": [
        "MercedezBenz()"
      ]
    },
    {
      "cell_type": "code",
      "execution_count": 49,
      "metadata": {},
      "outputs": [
        {
          "data": {
            "text/plain": [
              "'black'"
            ]
          },
          "execution_count": 49,
          "metadata": {},
          "output_type": "execute_result"
        }
      ],
      "source": [
        "MercedezBenz().color"
      ]
    },
    {
      "cell_type": "code",
      "execution_count": 50,
      "metadata": {},
      "outputs": [
        {
          "data": {
            "text/plain": [
              "<__main__.MercedezBenz at 0x1dc45baa5f0>"
            ]
          },
          "execution_count": 50,
          "metadata": {},
          "output_type": "execute_result"
        }
      ],
      "source": [
        "MercedezBenz(\"blue\")"
      ]
    },
    {
      "cell_type": "code",
      "execution_count": 51,
      "metadata": {},
      "outputs": [],
      "source": [
        "m1 = MercedezBenz(\"black\")\n",
        "m2 = MercedezBenz(\"red\")"
      ]
    },
    {
      "cell_type": "code",
      "execution_count": 52,
      "metadata": {},
      "outputs": [
        {
          "data": {
            "text/plain": [
              "('black', 'red')"
            ]
          },
          "execution_count": 52,
          "metadata": {},
          "output_type": "execute_result"
        }
      ],
      "source": [
        "m1.color, m2.color"
      ]
    },
    {
      "attachments": {},
      "cell_type": "markdown",
      "metadata": {},
      "source": [
        "## `Alternatively: getattr() And setattr()`"
      ]
    },
    {
      "cell_type": "code",
      "execution_count": 53,
      "metadata": {},
      "outputs": [],
      "source": [
        "class MercedezBenz:\n",
        "    doors = 4\n",
        "    wheels = 4\n",
        "    model = 'G'\n",
        "\n",
        "    def __init__(self, color=\"black\"):  # after instance creation, but before it is returned\n",
        "        self.color = color\n",
        "\n",
        "    def drive(self):\n",
        "        print(f\"A Mercedez is driving. It is {self}\\n\")"
      ]
    },
    {
      "cell_type": "code",
      "execution_count": 54,
      "metadata": {},
      "outputs": [],
      "source": [
        "m1 = MercedezBenz()\n",
        "m2 = MercedezBenz(\"red\")"
      ]
    },
    {
      "cell_type": "code",
      "execution_count": 55,
      "metadata": {},
      "outputs": [],
      "source": [
        "# object.attribtue syntax"
      ]
    },
    {
      "cell_type": "code",
      "execution_count": 56,
      "metadata": {},
      "outputs": [
        {
          "data": {
            "text/plain": [
              "4"
            ]
          },
          "execution_count": 56,
          "metadata": {},
          "output_type": "execute_result"
        }
      ],
      "source": [
        "MercedezBenz.doors"
      ]
    },
    {
      "cell_type": "code",
      "execution_count": 57,
      "metadata": {},
      "outputs": [
        {
          "data": {
            "text/plain": [
              "'black'"
            ]
          },
          "execution_count": 57,
          "metadata": {},
          "output_type": "execute_result"
        }
      ],
      "source": [
        "m1.color"
      ]
    },
    {
      "cell_type": "code",
      "execution_count": 58,
      "metadata": {},
      "outputs": [
        {
          "data": {
            "text/plain": [
              "4"
            ]
          },
          "execution_count": 58,
          "metadata": {},
          "output_type": "execute_result"
        }
      ],
      "source": [
        "m2. wheels"
      ]
    },
    {
      "cell_type": "code",
      "execution_count": 59,
      "metadata": {},
      "outputs": [
        {
          "data": {
            "text/plain": [
              "'black'"
            ]
          },
          "execution_count": 59,
          "metadata": {},
          "output_type": "execute_result"
        }
      ],
      "source": [
        "getattr(m1, \"color\")"
      ]
    },
    {
      "cell_type": "code",
      "execution_count": 60,
      "metadata": {},
      "outputs": [
        {
          "data": {
            "text/plain": [
              "'black'"
            ]
          },
          "execution_count": 60,
          "metadata": {},
          "output_type": "execute_result"
        }
      ],
      "source": [
        "m1.color"
      ]
    },
    {
      "cell_type": "code",
      "execution_count": 61,
      "metadata": {},
      "outputs": [],
      "source": [
        "m2.color = \"reddish\""
      ]
    },
    {
      "cell_type": "code",
      "execution_count": 62,
      "metadata": {},
      "outputs": [],
      "source": [
        "setattr(m2, \"color\", \"less reddish\")"
      ]
    },
    {
      "cell_type": "code",
      "execution_count": 63,
      "metadata": {},
      "outputs": [
        {
          "data": {
            "text/plain": [
              "'less reddish'"
            ]
          },
          "execution_count": 63,
          "metadata": {},
          "output_type": "execute_result"
        }
      ],
      "source": [
        "m2.color"
      ]
    },
    {
      "cell_type": "code",
      "execution_count": 64,
      "metadata": {},
      "outputs": [],
      "source": [
        "objs = [m1, m2]\n",
        "\n",
        "attribs = [\"color\", \"doors\"]\n",
        "values = [\"navyblue\", 3]"
      ]
    },
    {
      "cell_type": "code",
      "execution_count": 65,
      "metadata": {},
      "outputs": [],
      "source": [
        "for obj in objs:\n",
        "    for attrib, val in zip(attribs, values):\n",
        "        setattr(obj, attrib, val) "
      ]
    },
    {
      "cell_type": "code",
      "execution_count": 66,
      "metadata": {},
      "outputs": [
        {
          "data": {
            "text/plain": [
              "('navyblue', 'navyblue')"
            ]
          },
          "execution_count": 66,
          "metadata": {},
          "output_type": "execute_result"
        }
      ],
      "source": [
        "m1.color, m2.color"
      ]
    },
    {
      "cell_type": "code",
      "execution_count": 67,
      "metadata": {},
      "outputs": [
        {
          "data": {
            "text/plain": [
              "(3, 3)"
            ]
          },
          "execution_count": 67,
          "metadata": {},
          "output_type": "execute_result"
        }
      ],
      "source": [
        "m1.doors, m2.doors"
      ]
    },
    {
      "cell_type": "code",
      "execution_count": 68,
      "metadata": {},
      "outputs": [],
      "source": [
        "# quick detour"
      ]
    },
    {
      "cell_type": "code",
      "execution_count": 69,
      "metadata": {},
      "outputs": [
        {
          "data": {
            "text/plain": [
              "[('color', 'navyblue'), ('doors', 3)]"
            ]
          },
          "execution_count": 69,
          "metadata": {},
          "output_type": "execute_result"
        }
      ],
      "source": [
        "list(zip(attribs, values))"
      ]
    },
    {
      "cell_type": "code",
      "execution_count": 70,
      "metadata": {},
      "outputs": [
        {
          "ename": "AttributeError",
          "evalue": "'MercedezBenz' object has no attribute 'wingspan'",
          "output_type": "error",
          "traceback": [
            "\u001b[1;31m---------------------------------------------------------------------------\u001b[0m",
            "\u001b[1;31mAttributeError\u001b[0m                            Traceback (most recent call last)",
            "\u001b[1;32md:\\Learning Code\\Python\\Python Code\\OOP in Python\\021 Classes.ipynb Cell 75'\u001b[0m in \u001b[0;36m<cell line: 1>\u001b[1;34m()\u001b[0m\n\u001b[1;32m----> <a href='vscode-notebook-cell:/d%3A/Learning%20Code/Python/Python%20Code/OOP%20in%20Python/021%20Classes.ipynb#ch0000074?line=0'>1</a>\u001b[0m m2\u001b[39m.\u001b[39;49mwingspan\n",
            "\u001b[1;31mAttributeError\u001b[0m: 'MercedezBenz' object has no attribute 'wingspan'"
          ]
        }
      ],
      "source": [
        "m2.wingspan"
      ]
    },
    {
      "cell_type": "code",
      "execution_count": null,
      "metadata": {},
      "outputs": [
        {
          "name": "stdout",
          "output_type": "stream",
          "text": [
            "'MercedezBenz' object has no attribute 'wingspan'\n"
          ]
        }
      ],
      "source": [
        "try:\n",
        "    print(m2.wingspan)\n",
        "except AttributeError as e:\n",
        "    print(e)"
      ]
    },
    {
      "cell_type": "code",
      "execution_count": null,
      "metadata": {},
      "outputs": [
        {
          "data": {
            "text/plain": [
              "'No Attribute Found'"
            ]
          },
          "metadata": {},
          "output_type": "display_data"
        }
      ],
      "source": [
        "getattr(m2, \"wingspan\", \"No Attribute Found\")"
      ]
    },
    {
      "attachments": {},
      "cell_type": "markdown",
      "metadata": {},
      "source": [
        "## `Revisting self`"
      ]
    },
    {
      "cell_type": "code",
      "execution_count": null,
      "metadata": {},
      "outputs": [],
      "source": [
        "class MercedezBenz:\n",
        "    doors = 4\n",
        "    model = 'G'\n",
        "    wheels = 4\n",
        "\n",
        "    def __init__(self, color):\n",
        "        self.color = color\n",
        "\n",
        "    def drive(self):\n",
        "        return f\"A Mercedez is driving. It is {self}\\n\"\n",
        "\n",
        "    def auto_drive(self):\n",
        "        return \"Auto-driving for now...\""
      ]
    },
    {
      "cell_type": "code",
      "execution_count": null,
      "metadata": {},
      "outputs": [],
      "source": [
        "m1 = MercedezBenz(\"pink\")"
      ]
    },
    {
      "cell_type": "code",
      "execution_count": null,
      "metadata": {},
      "outputs": [
        {
          "data": {
            "text/plain": [
              "'Auto-driving for now...'"
            ]
          },
          "metadata": {},
          "output_type": "display_data"
        }
      ],
      "source": [
        "m1.auto_drive()"
      ]
    },
    {
      "cell_type": "code",
      "execution_count": null,
      "metadata": {},
      "outputs": [],
      "source": [
        "# C#, java: this (reserved)"
      ]
    },
    {
      "attachments": {},
      "cell_type": "markdown",
      "metadata": {},
      "source": [
        "## `Class and Static Methods`"
      ]
    },
    {
      "cell_type": "code",
      "execution_count": null,
      "metadata": {},
      "outputs": [],
      "source": [
        "class MercedezBenz:\n",
        "    doors = 4\n",
        "    model = 'G'\n",
        "    wheels = 4\n",
        "\n",
        "    def __init__(self, color=\"black\"):\n",
        "        self.color = color\n",
        "\n",
        "    def drive(self):\n",
        "        return f\"A Mercedez is driving. It is {self}\\n\"\n",
        "\n",
        "    @staticmethod\n",
        "    def auto_drive():\n",
        "        return \"Auto-driving for now...\""
      ]
    },
    {
      "cell_type": "code",
      "execution_count": null,
      "metadata": {},
      "outputs": [],
      "source": [
        "m1 = MercedezBenz()"
      ]
    },
    {
      "cell_type": "code",
      "execution_count": null,
      "metadata": {},
      "outputs": [
        {
          "data": {
            "text/plain": [
              "'Auto-driving for now...'"
            ]
          },
          "metadata": {},
          "output_type": "display_data"
        }
      ],
      "source": [
        "m1.auto_drive()"
      ]
    },
    {
      "cell_type": "code",
      "execution_count": null,
      "metadata": {},
      "outputs": [
        {
          "data": {
            "text/plain": [
              "'Auto-driving for now...'"
            ]
          },
          "metadata": {},
          "output_type": "display_data"
        }
      ],
      "source": [
        "MercedezBenz.auto_drive()"
      ]
    },
    {
      "cell_type": "code",
      "execution_count": null,
      "metadata": {},
      "outputs": [],
      "source": [
        "class MercedezBenz:\n",
        "    doors = 4\n",
        "    model = 'G'\n",
        "    wheels = 4\n",
        "\n",
        "    def __init__(self, color=\"black\"):\n",
        "        self.color = color\n",
        "\n",
        "    def drive(self):\n",
        "        return f\"A Mercedez is driving. It is {self}\\n\"\n",
        "\n",
        "    @staticmethod\n",
        "    def auto_drive():\n",
        "        return \"Auto-driving for now...\"\n",
        "\n",
        "    @classmethod\n",
        "    def create_lease(cls):\n",
        "        print(f\"A lease for {cls} will be created\")"
      ]
    },
    {
      "cell_type": "code",
      "execution_count": null,
      "metadata": {},
      "outputs": [
        {
          "name": "stdout",
          "output_type": "stream",
          "text": [
            "A lease for <class '__main__.MercedezBenz'> will be created\n"
          ]
        }
      ],
      "source": [
        "MercedezBenz.create_lease()"
      ]
    },
    {
      "cell_type": "code",
      "execution_count": null,
      "metadata": {},
      "outputs": [],
      "source": [
        "m1 = MercedezBenz()"
      ]
    },
    {
      "cell_type": "code",
      "execution_count": null,
      "metadata": {},
      "outputs": [
        {
          "name": "stdout",
          "output_type": "stream",
          "text": [
            "A lease for <class '__main__.MercedezBenz'> will be created\n"
          ]
        }
      ],
      "source": [
        "m1.create_lease()"
      ]
    },
    {
      "attachments": {},
      "cell_type": "markdown",
      "metadata": {},
      "source": [
        "## `BONUS: An Alternative Syntax`"
      ]
    },
    {
      "cell_type": "code",
      "execution_count": null,
      "metadata": {},
      "outputs": [],
      "source": [
        "class MercedezBenz:\n",
        "    doors = 4\n",
        "    model = 'G'\n",
        "    wheels = 4\n",
        "\n",
        "    def __init__(self, color=\"black\"):\n",
        "        self.color = color\n",
        "\n",
        "    def drive(self):\n",
        "        return f\"A Mercedez is driving. It is {self}\\n\"\n",
        "\n",
        "    # @staticmethod\n",
        "    def auto_drive():\n",
        "        return \"Auto-driving for now...\"\n",
        "\n",
        "    def create_lease(cls):\n",
        "        print(f\"A lease for {cls} will be created\")\n",
        "\n",
        "\n",
        "    create_lease = classmethod(create_lease)\n",
        "    auto_drive = staticmethod(auto_drive)"
      ]
    },
    {
      "cell_type": "code",
      "execution_count": null,
      "metadata": {},
      "outputs": [],
      "source": [
        "m1 = MercedezBenz()"
      ]
    },
    {
      "cell_type": "code",
      "execution_count": null,
      "metadata": {},
      "outputs": [
        {
          "name": "stdout",
          "output_type": "stream",
          "text": [
            "A lease for <class '__main__.MercedezBenz'> will be created\n"
          ]
        }
      ],
      "source": [
        "m1.create_lease()"
      ]
    },
    {
      "cell_type": "code",
      "execution_count": null,
      "metadata": {},
      "outputs": [
        {
          "data": {
            "text/plain": [
              "'Auto-driving for now...'"
            ]
          },
          "metadata": {},
          "output_type": "display_data"
        }
      ],
      "source": [
        "m1.auto_drive()"
      ]
    },
    {
      "attachments": {},
      "cell_type": "markdown",
      "metadata": {},
      "source": [
        "## `Dunder Dict`"
      ]
    },
    {
      "cell_type": "code",
      "execution_count": null,
      "metadata": {},
      "outputs": [],
      "source": [
        "m1 = MercedezBenz(\"lavender\")"
      ]
    },
    {
      "cell_type": "code",
      "execution_count": null,
      "metadata": {},
      "outputs": [],
      "source": [
        "# \"object.attribute\" syntax"
      ]
    },
    {
      "cell_type": "code",
      "execution_count": null,
      "metadata": {},
      "outputs": [
        {
          "data": {
            "text/plain": [
              "'lavender'"
            ]
          },
          "metadata": {},
          "output_type": "display_data"
        }
      ],
      "source": [
        "m1.color"
      ]
    },
    {
      "cell_type": "code",
      "execution_count": null,
      "metadata": {},
      "outputs": [
        {
          "data": {
            "text/plain": [
              "{'color': 'lavender', 'horse_power': 290}"
            ]
          },
          "metadata": {},
          "output_type": "display_data"
        }
      ],
      "source": [
        "m1.__dict__"
      ]
    },
    {
      "cell_type": "code",
      "execution_count": null,
      "metadata": {},
      "outputs": [],
      "source": [
        "m2 = MercedezBenz(\"cyan\")"
      ]
    },
    {
      "cell_type": "code",
      "execution_count": null,
      "metadata": {},
      "outputs": [
        {
          "data": {
            "text/plain": [
              "{'color': 'cyan'}"
            ]
          },
          "metadata": {},
          "output_type": "display_data"
        }
      ],
      "source": [
        "m2.__dict__"
      ]
    },
    {
      "cell_type": "code",
      "execution_count": null,
      "metadata": {},
      "outputs": [],
      "source": [
        "m2.horse_power = 490"
      ]
    },
    {
      "cell_type": "code",
      "execution_count": null,
      "metadata": {},
      "outputs": [
        {
          "data": {
            "text/plain": [
              "{'color': 'cyan', 'horse_power': 490}"
            ]
          },
          "metadata": {},
          "output_type": "display_data"
        }
      ],
      "source": [
        "m2.__dict__"
      ]
    },
    {
      "cell_type": "code",
      "execution_count": null,
      "metadata": {},
      "outputs": [
        {
          "data": {
            "text/plain": [
              "{'color': 'lavender', 'horse_power': 290}"
            ]
          },
          "metadata": {},
          "output_type": "display_data"
        }
      ],
      "source": [
        "m1.__dict__"
      ]
    },
    {
      "cell_type": "code",
      "execution_count": null,
      "metadata": {},
      "outputs": [],
      "source": [
        "m1.__dict__[\"horse_power\"] = 290"
      ]
    },
    {
      "cell_type": "code",
      "execution_count": null,
      "metadata": {},
      "outputs": [
        {
          "data": {
            "text/plain": [
              "290"
            ]
          },
          "metadata": {},
          "output_type": "display_data"
        }
      ],
      "source": [
        "m1.horse_power"
      ]
    },
    {
      "attachments": {},
      "cell_type": "markdown",
      "metadata": {},
      "source": [
        "## `Class vs Instance __dict__`"
      ]
    },
    {
      "cell_type": "code",
      "execution_count": null,
      "metadata": {},
      "outputs": [],
      "source": [
        "class MercedezBenz:\n",
        "    doors = 4\n",
        "    model = 'G'\n",
        "    wheels = 4\n",
        "\n",
        "    def __init__(self, color=\"black\"):\n",
        "        self.color = color\n",
        "\n",
        "    def drive(self):\n",
        "        return f\"A Mercedez is driving. It is {self}\\n\"\n",
        "\n",
        "    @staticmethod\n",
        "    def auto_drive():\n",
        "        return \"Auto-driving for now...\"\n",
        "\n",
        "    @classmethod\n",
        "    def create_lease(cls):\n",
        "        print(f\"A lease for {cls} will be created\")"
      ]
    },
    {
      "cell_type": "code",
      "execution_count": null,
      "metadata": {},
      "outputs": [
        {
          "data": {
            "text/plain": [
              "mappingproxy({'__module__': '__main__',\n",
              "              'doors': 4,\n",
              "              'model': 'G',\n",
              "              'wheels': 4,\n",
              "              '__init__': <function __main__.MercedezBenz.__init__(self, color='black')>,\n",
              "              'drive': <function __main__.MercedezBenz.drive(self)>,\n",
              "              'auto_drive': <staticmethod at 0x7fc97d4e2ca0>,\n",
              "              'create_lease': <classmethod at 0x7fc97d4e2d60>,\n",
              "              '__dict__': <attribute '__dict__' of 'MercedezBenz' objects>,\n",
              "              '__weakref__': <attribute '__weakref__' of 'MercedezBenz' objects>,\n",
              "              '__doc__': None})"
            ]
          },
          "metadata": {},
          "output_type": "display_data"
        }
      ],
      "source": [
        "MercedezBenz.__dict__"
      ]
    },
    {
      "cell_type": "code",
      "execution_count": null,
      "metadata": {},
      "outputs": [
        {
          "data": {
            "text/plain": [
              "mappingproxy"
            ]
          },
          "metadata": {},
          "output_type": "display_data"
        }
      ],
      "source": [
        "type(MercedezBenz.__dict__)"
      ]
    },
    {
      "cell_type": "code",
      "execution_count": null,
      "metadata": {},
      "outputs": [],
      "source": [
        "# MRO -> method resolution order"
      ]
    },
    {
      "cell_type": "code",
      "execution_count": null,
      "metadata": {},
      "outputs": [
        {
          "data": {
            "text/plain": [
              "{'color': 'lavender', 'horse_power': 290}"
            ]
          },
          "metadata": {},
          "output_type": "display_data"
        }
      ],
      "source": [
        "m1.__dict__"
      ]
    },
    {
      "cell_type": "code",
      "execution_count": null,
      "metadata": {},
      "outputs": [],
      "source": [
        "# get attribute by name of \"__dict__\" \n",
        "# python goes looking for it in the naemspace, then the class\n",
        "# in the class, it finds it\n",
        "# the attribute name (__dict__) points to a descriptor\n",
        "# the descriptors get() is called\n",
        "# which returns a dictionary"
      ]
    },
    {
      "attachments": {},
      "cell_type": "markdown",
      "metadata": {},
      "source": [
        "## `BONUS: Careful With Mutables`"
      ]
    },
    {
      "cell_type": "code",
      "execution_count": null,
      "metadata": {},
      "outputs": [],
      "source": [
        "class MercedezBenz:\n",
        "    doors = 5\n",
        "    model = 'G'\n",
        "    wheels = 4\n",
        "\n",
        "    def __init__(self, color=\"black\"):\n",
        "        self.color = color\n",
        "\n",
        "    def drive(self):\n",
        "        return f\"A Mercedez is driving. It is {self}\\n\"\n",
        "\n",
        "    @staticmethod\n",
        "    def auto_drive():\n",
        "        return \"Auto-driving for now...\"\n",
        "\n",
        "    @classmethod\n",
        "    def create_lease(cls):\n",
        "        print(f\"A lease for {cls} will be created\")"
      ]
    },
    {
      "cell_type": "code",
      "execution_count": null,
      "metadata": {},
      "outputs": [
        {
          "data": {
            "text/plain": [
              "mappingproxy({'__module__': '__main__',\n",
              "              'doors': 4,\n",
              "              'model': 'G',\n",
              "              'wheels': 4,\n",
              "              '__init__': <function __main__.MercedezBenz.__init__(self, color='black')>,\n",
              "              'drive': <function __main__.MercedezBenz.drive(self)>,\n",
              "              'auto_drive': <staticmethod at 0x7fc97d56d370>,\n",
              "              'create_lease': <classmethod at 0x7fc97d56db20>,\n",
              "              '__dict__': <attribute '__dict__' of 'MercedezBenz' objects>,\n",
              "              '__weakref__': <attribute '__weakref__' of 'MercedezBenz' objects>,\n",
              "              '__doc__': None})"
            ]
          },
          "metadata": {},
          "output_type": "display_data"
        }
      ],
      "source": [
        "MercedezBenz.__dict__"
      ]
    },
    {
      "cell_type": "code",
      "execution_count": null,
      "metadata": {},
      "outputs": [],
      "source": [
        "m1 = MercedezBenz()\n",
        "m2 = MercedezBenz()"
      ]
    },
    {
      "cell_type": "code",
      "execution_count": null,
      "metadata": {},
      "outputs": [],
      "source": [
        "m1.doors = 2\n",
        "m2.doors = 3"
      ]
    },
    {
      "cell_type": "code",
      "execution_count": null,
      "metadata": {},
      "outputs": [
        {
          "data": {
            "text/plain": [
              "(2, 3)"
            ]
          },
          "metadata": {},
          "output_type": "display_data"
        }
      ],
      "source": [
        "m1.doors, m2.doors"
      ]
    },
    {
      "cell_type": "code",
      "execution_count": null,
      "metadata": {},
      "outputs": [],
      "source": [
        "m3 = MercedezBenz()"
      ]
    },
    {
      "cell_type": "code",
      "execution_count": null,
      "metadata": {},
      "outputs": [
        {
          "data": {
            "text/plain": [
              "4"
            ]
          },
          "metadata": {},
          "output_type": "display_data"
        }
      ],
      "source": [
        "m3.doors"
      ]
    },
    {
      "cell_type": "code",
      "execution_count": null,
      "metadata": {},
      "outputs": [],
      "source": [
        "# immutables: booleans, ints, floats, stirng, tuples"
      ]
    },
    {
      "cell_type": "code",
      "execution_count": null,
      "metadata": {},
      "outputs": [],
      "source": [
        "# mutable: list"
      ]
    },
    {
      "cell_type": "code",
      "execution_count": null,
      "metadata": {},
      "outputs": [],
      "source": [
        "class Tire:\n",
        "    def __init__(self, kind, distance_covered):\n",
        "        self.kind = kind\n",
        "        self.distance_covered = distance_covered"
      ]
    },
    {
      "cell_type": "code",
      "execution_count": null,
      "metadata": {},
      "outputs": [],
      "source": [
        "class MercedezBenz:\n",
        "    doors = 5\n",
        "    model = 'G'\n",
        "    wheels = 4\n",
        "    tires = [Tire(\"operational\", 10) for i in range(4)]\n",
        "\n",
        "    def __init__(self, color=\"black\"):\n",
        "        self.color = color\n",
        "\n",
        "    def drive(self):\n",
        "        return f\"A Mercedez is driving. It is {self}\\n\"\n",
        "\n",
        "    @staticmethod\n",
        "    def auto_drive():\n",
        "        return \"Auto-driving for now...\"\n",
        "\n",
        "    @classmethod\n",
        "    def create_lease(cls):\n",
        "        print(f\"A lease for {cls} will be created\")"
      ]
    },
    {
      "cell_type": "code",
      "execution_count": null,
      "metadata": {},
      "outputs": [],
      "source": [
        "m1 = MercedezBenz()"
      ]
    },
    {
      "cell_type": "code",
      "execution_count": null,
      "metadata": {},
      "outputs": [
        {
          "data": {
            "text/plain": [
              "[<__main__.Tire at 0x7fc97d3baee0>,\n",
              " <__main__.Tire at 0x7fc97d3ba280>,\n",
              " <__main__.Tire at 0x7fc97d3ba940>,\n",
              " <__main__.Tire at 0x7fc97d3bad30>]"
            ]
          },
          "metadata": {},
          "output_type": "display_data"
        }
      ],
      "source": [
        "m1.tires"
      ]
    },
    {
      "cell_type": "code",
      "execution_count": null,
      "metadata": {},
      "outputs": [],
      "source": [
        "m2 = MercedezBenz()"
      ]
    },
    {
      "cell_type": "code",
      "execution_count": null,
      "metadata": {},
      "outputs": [
        {
          "data": {
            "text/plain": [
              "[<__main__.Tire at 0x7fc97d3baee0>,\n",
              " <__main__.Tire at 0x7fc97d3ba280>,\n",
              " <__main__.Tire at 0x7fc97d3ba940>,\n",
              " <__main__.Tire at 0x7fc97d3bad30>,\n",
              " <__main__.Tire at 0x7fc97d5ac2e0>]"
            ]
          },
          "metadata": {},
          "output_type": "display_data"
        }
      ],
      "source": [
        "m2.tires"
      ]
    },
    {
      "cell_type": "code",
      "execution_count": null,
      "metadata": {},
      "outputs": [],
      "source": [
        "m1.tires.append(Tire(kind=\"spare\", distance_covered=100))"
      ]
    },
    {
      "cell_type": "code",
      "execution_count": null,
      "metadata": {},
      "outputs": [
        {
          "data": {
            "text/plain": [
              "[<__main__.Tire at 0x7fc97d3baee0>,\n",
              " <__main__.Tire at 0x7fc97d3ba280>,\n",
              " <__main__.Tire at 0x7fc97d3ba940>,\n",
              " <__main__.Tire at 0x7fc97d3bad30>,\n",
              " <__main__.Tire at 0x7fc97d5ac2e0>]"
            ]
          },
          "metadata": {},
          "output_type": "display_data"
        }
      ],
      "source": [
        "MercedezBenz().tires"
      ]
    },
    {
      "attachments": {},
      "cell_type": "markdown",
      "metadata": {},
      "source": [
        "## `Access Control`"
      ]
    },
    {
      "cell_type": "code",
      "execution_count": null,
      "metadata": {},
      "outputs": [],
      "source": [
        "m1 = MercedezBenz(\"lavender\")"
      ]
    },
    {
      "cell_type": "code",
      "execution_count": null,
      "metadata": {},
      "outputs": [],
      "source": [
        "m1.doors += 1"
      ]
    },
    {
      "cell_type": "code",
      "execution_count": null,
      "metadata": {},
      "outputs": [],
      "source": [
        "m1.doors = \"Andy\""
      ]
    },
    {
      "cell_type": "code",
      "execution_count": null,
      "metadata": {},
      "outputs": [],
      "source": [
        "m1.doors = 1.2"
      ]
    },
    {
      "attachments": {},
      "cell_type": "markdown",
      "metadata": {},
      "source": [
        "## `Docstrings`"
      ]
    },
    {
      "cell_type": "code",
      "execution_count": null,
      "metadata": {},
      "outputs": [],
      "source": [
        "# getattr()"
      ]
    },
    {
      "cell_type": "code",
      "execution_count": null,
      "metadata": {},
      "outputs": [
        {
          "name": "stdout",
          "output_type": "stream",
          "text": [
            "Help on built-in function getattr in module builtins:\n",
            "\n",
            "getattr(...)\n",
            "    getattr(object, name[, default]) -> value\n",
            "    \n",
            "    Get a named attribute from an object; getattr(x, 'y') is equivalent to x.y.\n",
            "    When a default argument is given, it is returned when the attribute doesn't\n",
            "    exist; without it, an exception is raised in that case.\n",
            "\n"
          ]
        }
      ],
      "source": [
        "help(getattr)"
      ]
    },
    {
      "cell_type": "code",
      "execution_count": null,
      "metadata": {},
      "outputs": [
        {
          "name": "stdout",
          "output_type": "stream",
          "text": [
            "Help on class Tire in module __main__:\n",
            "\n",
            "class Tire(builtins.object)\n",
            " |  Tire(kind, distance_covered)\n",
            " |  \n",
            " |  Methods defined here:\n",
            " |  \n",
            " |  __init__(self, kind, distance_covered)\n",
            " |      Initialize self.  See help(type(self)) for accurate signature.\n",
            " |  \n",
            " |  ----------------------------------------------------------------------\n",
            " |  Data descriptors defined here:\n",
            " |  \n",
            " |  __dict__\n",
            " |      dictionary for instance variables (if defined)\n",
            " |  \n",
            " |  __weakref__\n",
            " |      list of weak references to the object (if defined)\n",
            "\n"
          ]
        }
      ],
      "source": [
        "help(Tire)"
      ]
    },
    {
      "cell_type": "code",
      "execution_count": null,
      "metadata": {},
      "outputs": [],
      "source": [
        "class Tire:\n",
        "    # \"\"\"Defines an automobile tire object.\n",
        "\n",
        "    # :param kind: the kind of tire, e.g. operational, spare, or winter\n",
        "    # :param distance_covered: the distance in km the tire has covered\n",
        "    # \"\"\"\n",
        "\n",
        "    def __init__(self, kind, distance_covered):\n",
        "        self.kind = kind\n",
        "        self.distance_covered = distance_covered"
      ]
    },
    {
      "cell_type": "code",
      "execution_count": 80,
      "metadata": {},
      "outputs": [
        {
          "ename": "TypeError",
          "evalue": "print() takes 0 positional arguments but 1 was given",
          "output_type": "error",
          "traceback": [
            "\u001b[1;31m---------------------------------------------------------------------------\u001b[0m",
            "\u001b[1;31mTypeError\u001b[0m                                 Traceback (most recent call last)",
            "\u001b[1;32md:\\Learning Code\\Python\\Python Code\\OOP in Python\\021 Classes.ipynb Cell 144'\u001b[0m in \u001b[0;36m<cell line: 4>\u001b[1;34m()\u001b[0m\n\u001b[0;32m      <a href='vscode-notebook-cell:/d%3A/Learning%20Code/Python/Python%20Code/OOP%20in%20Python/021%20Classes.ipynb#ch0000143?line=1'>2</a>\u001b[0m     \u001b[39mprint\u001b[39m(\u001b[39m\"\u001b[39m\u001b[39mhello\u001b[39m\u001b[39m\"\u001b[39m)\n\u001b[0;32m      <a href='vscode-notebook-cell:/d%3A/Learning%20Code/Python/Python%20Code/OOP%20in%20Python/021%20Classes.ipynb#ch0000143?line=3'>4</a>\u001b[0m \u001b[39mif\u001b[39;00m \u001b[39m__name__\u001b[39m \u001b[39m==\u001b[39m \u001b[39m\"\u001b[39m\u001b[39m__main__\u001b[39m\u001b[39m\"\u001b[39m:\n\u001b[1;32m----> <a href='vscode-notebook-cell:/d%3A/Learning%20Code/Python/Python%20Code/OOP%20in%20Python/021%20Classes.ipynb#ch0000143?line=4'>5</a>\u001b[0m     cout()\n",
            "\u001b[1;32md:\\Learning Code\\Python\\Python Code\\OOP in Python\\021 Classes.ipynb Cell 144'\u001b[0m in \u001b[0;36mcout\u001b[1;34m()\u001b[0m\n\u001b[0;32m      <a href='vscode-notebook-cell:/d%3A/Learning%20Code/Python/Python%20Code/OOP%20in%20Python/021%20Classes.ipynb#ch0000143?line=0'>1</a>\u001b[0m \u001b[39mdef\u001b[39;00m \u001b[39mcout\u001b[39m(): \n\u001b[1;32m----> <a href='vscode-notebook-cell:/d%3A/Learning%20Code/Python/Python%20Code/OOP%20in%20Python/021%20Classes.ipynb#ch0000143?line=1'>2</a>\u001b[0m     \u001b[39mprint\u001b[39;49m(\u001b[39m\"\u001b[39;49m\u001b[39mhello\u001b[39;49m\u001b[39m\"\u001b[39;49m)\n",
            "\u001b[1;31mTypeError\u001b[0m: print() takes 0 positional arguments but 1 was given"
          ]
        }
      ],
      "source": [
        "def cout(): \n",
        "    print(\"hello\")\n",
        "\n",
        "if __name__ == \"__main__\":\n",
        "    cout()\n"
      ]
    }
  ],
  "metadata": {
    "interpreter": {
      "hash": "e407e92d16c4f44f804dc413e25d28f3327a4cf26f8b9dab22d5a83d0d017187"
    },
    "kernelspec": {
      "display_name": "Python 3.10.1 64-bit",
      "language": "python",
      "name": "python3"
    },
    "language_info": {
      "codemirror_mode": {
        "name": "ipython",
        "version": 3
      },
      "file_extension": ".py",
      "mimetype": "text/x-python",
      "name": "python",
      "nbconvert_exporter": "python",
      "pygments_lexer": "ipython3",
      "version": "3.10.1"
    }
  },
  "nbformat": 4,
  "nbformat_minor": 0
}
